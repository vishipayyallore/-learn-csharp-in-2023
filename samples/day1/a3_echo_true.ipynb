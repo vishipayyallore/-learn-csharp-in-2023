{
 "cells": [
  {
   "cell_type": "code",
   "execution_count": null,
   "metadata": {},
   "outputs": [],
   "source": [
    "import openai\n",
    "\n",
    "from dotenv import dotenv_values\n",
    "\n",
    "config = dotenv_values(\".env\")\n",
    "\n",
    "openai.api_key = config[\"OPENAI_API_KEY\"]\n",
    "\n",
    "prompt = \"Q: What is the tallest building in Hyderabad.\"\n",
    "\n",
    "model = \"text-davinci-002\"\n",
    "\n",
    "# Formatted Output | Stop Sequences | n = number of responses | temperature = randomness of response\n",
    "completions = openai.Completion.create(\n",
    "    engine=model,\n",
    "    prompt=prompt,\n",
    "    max_tokens=90,\n",
    "    n=2,\n",
    "    stop=\"6.\",\n",
    "    temperature=0.5,\n",
    "    echo=True,\n",
    ")\n",
    "\n",
    "message = completions.choices[0].text.strip()\n",
    "\n",
    "print(message)\n",
    "\n",
    "print(completions.choices)\n"
   ]
  }
 ],
 "metadata": {
  "kernelspec": {
   "display_name": "Python 3",
   "language": "python",
   "name": "python3"
  },
  "language_info": {
   "codemirror_mode": {
    "name": "ipython",
    "version": 3
   },
   "file_extension": ".py",
   "mimetype": "text/x-python",
   "name": "python",
   "nbconvert_exporter": "python",
   "pygments_lexer": "ipython3",
   "version": "3.11.1"
  },
  "orig_nbformat": 4
 },
 "nbformat": 4,
 "nbformat_minor": 2
}
