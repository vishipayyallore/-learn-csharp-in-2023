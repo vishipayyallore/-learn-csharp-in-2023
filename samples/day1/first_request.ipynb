{
 "cells": [
  {
   "cell_type": "code",
   "execution_count": 8,
   "metadata": {},
   "outputs": [
    {
     "name": "stdout",
     "output_type": "stream",
     "text": [
      "Hello in Malayalam is \"Namaskaram\".\n"
     ]
    }
   ],
   "source": [
    "import openai\n",
    "\n",
    "from dotenv import dotenv_values\n",
    "\n",
    "config = dotenv_values(\".env\")\n",
    "\n",
    "openai.api_key = config[\"OPENAI_API_KEY\"]\n",
    "\n",
    "prompt = \"How do you say hello in Malayalam?\"\n",
    "# prompt = \"What does the lion says?\"\n",
    "\n",
    "model = \"text-davinci-002\"\n",
    "\n",
    "completions = openai.Completion.create(\n",
    "    engine=model,\n",
    "    prompt=prompt,\n",
    "    max_tokens=60,\n",
    "    n=1,\n",
    "    stop=None,\n",
    "    temperature=0.5,\n",
    ")\n",
    "\n",
    "message = completions.choices[0].text.strip()\n",
    "\n",
    "print(message)\n"
   ]
  },
  {
   "cell_type": "code",
   "execution_count": null,
   "metadata": {},
   "outputs": [],
   "source": []
  }
 ],
 "metadata": {
  "kernelspec": {
   "display_name": "Python 3",
   "language": "python",
   "name": "python3"
  },
  "language_info": {
   "codemirror_mode": {
    "name": "ipython",
    "version": 3
   },
   "file_extension": ".py",
   "mimetype": "text/x-python",
   "name": "python",
   "nbconvert_exporter": "python",
   "pygments_lexer": "ipython3",
   "version": "3.11.1"
  },
  "orig_nbformat": 4
 },
 "nbformat": 4,
 "nbformat_minor": 2
}
