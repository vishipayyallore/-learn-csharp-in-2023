{
 "cells": [
  {
   "cell_type": "code",
   "execution_count": 15,
   "metadata": {},
   "outputs": [
    {
     "name": "stdout",
     "output_type": "stream",
     "text": [
      "1. Drishyam\n",
      "2. Parava\n",
      "3. Angamaly Diaries\n",
      "4. Ee. Ma. Yau\n",
      "5. Kumbalangi Nights\n"
     ]
    }
   ],
   "source": [
    "import openai\n",
    "\n",
    "from dotenv import dotenv_values\n",
    "\n",
    "config = dotenv_values(\".env\")\n",
    "\n",
    "openai.api_key = config[\"OPENAI_API_KEY\"]\n",
    "\n",
    "# prompt = \"How do you say hello in Malayalam?\"\n",
    "# prompt = \"What does the lion says?\"\n",
    "# prompt=\"The top 10 most populated cities in the world are: \",\n",
    "prompt=\"Generate a list of the best movies of all time in Malayalam\",\n",
    "\n",
    "model = \"text-davinci-002\"\n",
    "\n",
    "# Raw API request and response\n",
    "# openai.Completion.create(\n",
    "#     engine=model,\n",
    "#     prompt=prompt,\n",
    "#     max_tokens=60,\n",
    "#     n=1,\n",
    "#     stop=None,\n",
    "#     temperature=0.5,\n",
    "# )\n",
    "\n",
    "\n",
    "# Formatted Output | Stop Sequences\n",
    "completions = openai.Completion.create(\n",
    "    engine=model,\n",
    "    prompt=prompt,\n",
    "    max_tokens=60,\n",
    "    n=1,\n",
    "    stop=\"6.\",\n",
    "    temperature=0.5,\n",
    ")\n",
    "\n",
    "message = completions.choices[0].text.strip()\n",
    "\n",
    "print(message)\n"
   ]
  },
  {
   "cell_type": "code",
   "execution_count": null,
   "metadata": {},
   "outputs": [],
   "source": []
  }
 ],
 "metadata": {
  "kernelspec": {
   "display_name": "Python 3",
   "language": "python",
   "name": "python3"
  },
  "language_info": {
   "codemirror_mode": {
    "name": "ipython",
    "version": 3
   },
   "file_extension": ".py",
   "mimetype": "text/x-python",
   "name": "python",
   "nbconvert_exporter": "python",
   "pygments_lexer": "ipython3",
   "version": "3.11.1"
  },
  "orig_nbformat": 4
 },
 "nbformat": 4,
 "nbformat_minor": 2
}
